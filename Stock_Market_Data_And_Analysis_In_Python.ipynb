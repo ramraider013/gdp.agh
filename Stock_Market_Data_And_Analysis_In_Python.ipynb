{
 "cells": [
  {
   "cell_type": "markdown",
   "metadata": {},
   "source": [
    "# IMPORT PACKAGES"
   ]
  },
  {
   "cell_type": "code",
   "execution_count": null,
   "metadata": {},
   "outputs": [],
   "source": [
    "import pandas as pd\n",
    "\n",
    "import pandas_datareader\n",
    "import quandl\n",
    "import yfinance as yf\n",
    "from yahoofinancials import YahooFinancials\n",
    "\n",
    "from pandas_datareader import data\n",
    "from pandas.util.testing import assert_frame_equal\n",
    "import matplotlib.pyplot as plt\n",
    "%matplotlib inline\n",
    "\n",
    "from nsepy import get_history\n",
    "from datetime import date\n",
    "\n"
   ]
  },
  {
   "cell_type": "markdown",
   "metadata": {},
   "source": [
    "# Yahoo Finance\n",
    "One of the first sources from which you can get daily price-volume stock market data is Yahoo finance. You can use pandas_datareader or yfinance module to get the data."
   ]
  },
  {
   "cell_type": "markdown",
   "metadata": {},
   "source": [
    "# Advantages\n",
    "\n",
    "Adjusted close price stock market data is available\n",
    "Most recent stock market data is available\n",
    "Doesn't require API key to fetch the stock market data\n",
    "\n",
    "# Disadvantages\n",
    "\n",
    "It is not a stable source to fetch the stock market data\n",
    "If the stock market data fetching fails from yahoo finance using the pandas_datareader then you can use yfinance package to fetch the data."
   ]
  },
  {
   "cell_type": "code",
   "execution_count": null,
   "metadata": {},
   "outputs": [],
   "source": [
    "# Set the start and end date\n",
    "start_date = '1990-01-01'\n",
    "end_date = '2019-02-01'\n",
    "\n",
    "# Set the ticker\n",
    "ticker = 'AMZN'\n",
    "\n",
    "# Get the data\n",
    "data = data.get_data_yahoo(ticker, start_date, end_date)\n",
    "data.head()"
   ]
  },
  {
   "cell_type": "code",
   "execution_count": null,
   "metadata": {},
   "outputs": [],
   "source": [
    "data['Adj Close'].plot()\n",
    "plt.show()"
   ]
  },
  {
   "cell_type": "code",
   "execution_count": null,
   "metadata": {},
   "outputs": [],
   "source": [
    "# Plot the adjusted close price\n",
    "data['Adj Close'].plot(figsize=(10, 7))\n",
    "\n",
    "# Define the label for the title of the figure\n",
    "plt.title(\"Adjusted Close Price of %s\" % ticker, fontsize=16)\n",
    "\n",
    "# Define the labels for x-axis and y-axis\n",
    "plt.ylabel('Price', fontsize=14)\n",
    "plt.xlabel('Year', fontsize=14)\n",
    "\n",
    "# Plot the grid lines\n",
    "plt.grid(which=\"major\", color='k', linestyle='-.', linewidth=0.5)\n",
    "\n",
    "# Show the plot\n",
    "plt.show()"
   ]
  },
  {
   "cell_type": "markdown",
   "metadata": {},
   "source": [
    "# QUANDL\n",
    "Quandl has many data sources to get different types of data. However, some are free and some are paid. Wiki is the free data source of Quandl to get the data of the end of the day prices of 3000+ US equities.\n",
    "\n",
    "It is curated by Quandl community and also provides information about the dividends and split.\n",
    "\n",
    "To get the stock market data, you need to first install the quandl module if it is not already installed using the pip command as shown below."
   ]
  },
  {
   "cell_type": "code",
   "execution_count": null,
   "metadata": {},
   "outputs": [],
   "source": [
    "QUANDL_API_KEY = 'VpYKj-e3pTXsUxQBMcto'\n",
    "\n",
    "# Set the start and end date\n",
    "start_date = '1990-01-01'\n",
    "end_date = '2018-03-01'\n",
    "\n",
    "# Set the ticker name\n",
    "ticker = 'AMZN'\n",
    "\n",
    "# Feth the data\n",
    "data = quandl.get('WIKI/'+ticker, start_date=start_date,\n",
    "                  end_date=end_date, api_key=QUANDL_API_KEY)\n",
    "\n",
    "# Print the first 5 rows of the dataframe\n",
    "data.head()"
   ]
  },
  {
   "cell_type": "code",
   "execution_count": null,
   "metadata": {},
   "outputs": [],
   "source": [
    "# Define the figure size for the plot\n",
    "plt.figure(figsize=(10, 7))\n",
    "\n",
    "# Plot the adjusted close price\n",
    "data['Adj. Close'].plot()\n",
    "\n",
    "# Define the label for the title of the figure\n",
    "plt.title(\"Adjusted Close Price of %s\" % ticker, fontsize=16)\n",
    "\n",
    "# Define the labels for x-axis and y-axis\n",
    "plt.ylabel('Price', fontsize=14)\n",
    "plt.xlabel('Year', fontsize=14)\n",
    "\n",
    "# Plot the grid lines\n",
    "plt.grid(which=\"major\", color='k', linestyle='-.', linewidth=0.5)\n",
    "plt.show()"
   ]
  },
  {
   "cell_type": "markdown",
   "metadata": {},
   "source": [
    "# Get stock market data for multiple tickers\n",
    "To get the stock market data of multiple stock tickers, you can create a list of tickers and call the quandl get method for each stock ticker.[1]\n",
    "\n",
    "For simplicity, I have created a dataframe data to store the adjusted close price of the stocks."
   ]
  },
  {
   "cell_type": "code",
   "execution_count": null,
   "metadata": {},
   "outputs": [],
   "source": [
    "# Define the ticker list\n",
    "tickers_list = ['AAPL', 'IBM', 'MSFT', 'WMT']\n",
    "\n",
    "# Import pandas\n",
    "data = pd.DataFrame(columns=tickers_list)\n",
    "\n",
    "# Feth the data\n",
    "for ticker in tickers_list:\n",
    "    data[ticker] = quandl.get('WIKI/' + ticker, start_date=start_date,\n",
    "                              end_date=end_date, api_key=QUANDL_API_KEY)['Adj. Close']\n",
    "\n",
    "# Print first 5 rows of the data\n",
    "data.head()"
   ]
  },
  {
   "cell_type": "code",
   "execution_count": null,
   "metadata": {},
   "outputs": [],
   "source": [
    "# Plot all the close prices\n",
    "data.plot(figsize=(10, 7))\n",
    "\n",
    "# Show the legend\n",
    "plt.legend()\n",
    "\n",
    "# Define the label for the title of the figure\n",
    "plt.title(\"Adjusted Close Price\", fontsize=16)\n",
    "\n",
    "# Define the labels for x-axis and y-axis\n",
    "plt.ylabel('Price', fontsize=14)\n",
    "plt.xlabel('Year', fontsize=14)\n",
    "\n",
    "# Plot the grid lines\n",
    "plt.grid(which=\"major\", color='k', linestyle='-.', linewidth=0.5)\n",
    "plt.show()"
   ]
  },
  {
   "cell_type": "markdown",
   "metadata": {},
   "source": [
    "# Advantages\n",
    "\n",
    "It is free of cost\n",
    "Has split and dividend-adjusted stock market data\n",
    "\n",
    "# Disadvantages\n",
    "\n",
    "Only available till 27-March-2018"
   ]
  },
  {
   "cell_type": "markdown",
   "metadata": {},
   "source": [
    "# Intraday Data"
   ]
  },
  {
   "cell_type": "markdown",
   "metadata": {},
   "source": [
    "# Alpha Vantage\n",
    "Alpha vantage is used to get the minute level stock market data. You need to signup on alpha vantage to get the free API key.\n"
   ]
  },
  {
   "cell_type": "code",
   "execution_count": null,
   "metadata": {},
   "outputs": [],
   "source": [
    "# Import TimeSeries class\n",
    "from alpha_vantage.timeseries import TimeSeries\n",
    "ALPHA_VANTAGE_API_KEY = '0R9QKMGY0T17LR42'\n",
    "\n",
    "# Initialize the TimeSeries class with key and output format\n",
    "ts = TimeSeries(key=ALPHA_VANTAGE_API_KEY, output_format='pandas')\n",
    "\n",
    "# Get pandas dataframe with the intraday data and information of the data\n",
    "data, data_info=ts.get_daily('GOOGL', outputsize ='compact')\n",
    "\n",
    "# Print the information of the data\n",
    "data_info"
   ]
  },
  {
   "cell_type": "code",
   "execution_count": null,
   "metadata": {},
   "outputs": [],
   "source": [
    "# Print the intraday data\n",
    "data.head()"
   ]
  },
  {
   "cell_type": "code",
   "execution_count": null,
   "metadata": {},
   "outputs": [],
   "source": [
    "data['4. close'].plot(figsize=(10, 7))\n",
    "\n",
    "# Define the label for the title of the figure\n",
    "plt.title(\"Close Price\", fontsize=16)\n",
    "\n",
    "# Define the labels for x-axis and y-axis\n",
    "plt.ylabel('Price', fontsize=14)\n",
    "plt.xlabel('Time', fontsize=14)\n",
    "\n",
    "# Plot the grid lines\n",
    "plt.grid(which=\"major\", color='k', linestyle='-.', linewidth=0.5)\n",
    "plt.show()"
   ]
  },
  {
   "cell_type": "markdown",
   "metadata": {},
   "source": [
    "# Get data at a custom frequency\n",
    "During strategy modelling, you are required to work with a custom frequency of stock market data such as 7 minutes or 35 minutes. This custom frequency candles are not provided by data vendors or web sources.\n",
    "\n",
    "In this case, you can use the pandas resample method to convert the stock market data to the frequency of your choice. The implementation of these is shown below where a 1-minute frequency data is converted to 10-minute frequency data.\n",
    "\n",
    "The first step is to define the dictionary with the conversion logic. For example, to get the open value the first value will be used, to get the high value the maximum value will be used and so on."
   ]
  },
  {
   "cell_type": "markdown",
   "metadata": {},
   "source": [
    "# Convert the index to datetime timestamp \n",
    "\n",
    "By default string is returned. Then call the resample method with the frequency such as\n",
    "\n",
    "10T for 10 minutes,\n",
    "D for 1 day and\n",
    "M for 1 month"
   ]
  },
  {
   "cell_type": "code",
   "execution_count": null,
   "metadata": {},
   "outputs": [],
   "source": [
    "ohlcv_dict = {\n",
    " '1. open': 'first',\n",
    " '2. high': 'max',\n",
    " '3. low': 'min',\n",
    " '4. close': 'last',\n",
    " '5. volume': 'sum'\n",
    "}"
   ]
  },
  {
   "cell_type": "code",
   "execution_count": null,
   "metadata": {},
   "outputs": [],
   "source": [
    "data.index = pd.to_datetime(data.index)\n",
    "data_10 = data.resample('10T').agg(ohlcv_dict)\n",
    "data_10.head()"
   ]
  },
  {
   "cell_type": "markdown",
   "metadata": {},
   "source": [
    "# yfinance\n",
    "yfinance is another module which can be used to fetch the minute level stock market data. It returns the stock market data for the last 7 days.\n",
    "\n",
    "\n",
    "The yfinance module has the download method which can be used to download the stock market data. It takes the following parameters:\n",
    "______________________________________________________________________________________________________________________________\n",
    "\n",
    "* ticker: The name of the tickers you want the data for. \n",
    "If you want data for multiple tickers then separate them by space\n",
    "\n",
    "* period: The number of days/month of data required. \n",
    "The valid frequencies are 1d, 5d, 1mo, 3mo, 6mo, 1y, 2y, 5y, 10y, ytd, max\n",
    "\n",
    "* interval: The frequency of data. \n",
    "The valid intervals are 1m, 2m, 5m, 15m, 30m, 60m, 90m, 1h, 1d, 5d, 1wk, 1mo, 3mo\n",
    "\n",
    "* The below code fetches the stock market data for MSFT for the past 5 days of 1-minute frequency."
   ]
  },
  {
   "cell_type": "markdown",
   "metadata": {},
   "source": [
    "# Featured Methods\n",
    "* get_financial_stmts(frequency, statement_type, reformat=True)\n",
    "    * frequency can be either ‘annual’ or ‘quarterly’.\n",
    "    * statement_type can be ‘income’, ‘balance’, ‘cash’ or a list of several.\n",
    "    * reformat optional value defaulted to true. Enter False for unprocessed raw data from Yahoo Finance.\n",
    "* get_stock_price_data(reformat=True)\n",
    "    * reformat optional value defaulted to true. Enter False for unprocessed raw data from Yahoo Finance.\n",
    "* get_stock_earnings_data(reformat=True)\n",
    "    * reformat optional value defaulted to true. Enter False for unprocessed raw data from Yahoo Finance.\n",
    "* get_summary_data(reformat=True)\n",
    "    * Returns financial summary data for cryptocurrencies, stocks, currencies, ETFs, mutual funds, U.S. Treasuries, commodity futures, and indexes.\n",
    "    * reformat optional value defaulted to true. Enter False for unprocessed raw data from Yahoo Finance.\n",
    "* get_stock_quote_type_data()\n",
    "* get_historical_price_data(start_date, end_date, time_interval)\n",
    "    * This method will pull historical pricing data for stocks, currencies, ETFs, mutual funds, U.S. Treasuries, cryptocurrencies, commodities, and indexes.\n",
    "    * start_date should be entered in the ‘YYYY-MM-DD’ format and is the first day that data will be pulled for.\n",
    "    * end_date should be entered in the ‘YYYY-MM-DD’ format and is the last day that data will be pulled for.\n",
    "    * time_interval can be either ‘daily’, ‘weekly’, or ‘monthly’. This variable determines the time period interval for your pull.\n",
    "    * Data response includes relevant pricing event data such as dividends and stock splits.\n",
    "* get_num_shares_outstanding(price_type=’current’)\n",
    "    * price_type can also be set to ‘average’ to calculate the shares outstanding with the daily average price.\n",
    "\n",
    "\n",
    "# Methods Added in V1.5\n",
    "* get_daily_dividend_data(start_date, end_date)\n",
    "\n",
    "# Additional Module Methods\n",
    "* get_interest_expense()\n",
    "* get_operating_income()\n",
    "* get_total_operating_expense()\n",
    "* get_total_revenue()\n",
    "* get_cost_of_revenue()\n",
    "* get_income_before_tax()\n",
    "* get_income_tax_expense()\n",
    "* get_gross_profit()\n",
    "* get_net_income_from_continuing_ops()\n",
    "* get_research_and_development()\n",
    "* get_current_price()\n",
    "* get_current_change()\n",
    "* get_current_percent_change()\n",
    "* get_current_volume()\n",
    "* get_prev_close_price()\n",
    "* get_open_price()\n",
    "* get_ten_day_avg_daily_volume()\n",
    "* get_three_month_avg_daily_volume()\n",
    "* get_stock_exchange()\n",
    "* get_market_cap()\n",
    "* get_daily_low()\n",
    "* get_daily_high()\n",
    "* get_currency()\n",
    "* get_yearly_high()\n",
    "* get_yearly_low()\n",
    "* get_dividend_yield()\n",
    "* get_annual_avg_div_yield()\n",
    "* get_five_yr_avg_div_yield()\n",
    "* get_dividend_rate()\n",
    "* get_annual_avg_div_rate()\n",
    "* get_50day_moving_avg()\n",
    "* get_200day_moving_avg()\n",
    "* get_beta()\n",
    "* get_payout_ratio()\n",
    "* get_pe_ratio()\n",
    "* get_price_to_sales()\n",
    "* get_exdividend_date()\n",
    "* get_book_value()\n",
    "* get_ebit()\n",
    "* get_net_income()\n",
    "* get_earnings_per_share()\n",
    "* get_key_statistics_data()"
   ]
  },
  {
   "cell_type": "code",
   "execution_count": null,
   "metadata": {},
   "outputs": [],
   "source": [
    "ydata = yf.download(tickers=\"MSFT\",\n",
    " period=\"5d\",\n",
    " interval=\"1m\")\n",
    "ydata.head()"
   ]
  },
  {
   "cell_type": "markdown",
   "metadata": {},
   "source": [
    "# Stocks Fundamental Data\n",
    "\n",
    "* We have used yfinance to get the fundamental data.\n",
    "\n",
    "* The first step is to set the ticker and then call the appropriate properties to get the right stock market data."
   ]
  },
  {
   "cell_type": "code",
   "execution_count": null,
   "metadata": {},
   "outputs": [],
   "source": [
    "# Set the ticker as MSFT\n",
    "!pip install yfinance\n",
    "\n",
    "# Import yfinance\n",
    "import yfinance as yf\n",
    "\n",
    "# Set the ticker as MSFT\n",
    "y_finance = yf.Ticker(\"MSFT\")\n",
    "\n",
    "\n",
    "#yticker='MSFT'\n",
    "#y_finance=yf.Ticker(yticker)"
   ]
  },
  {
   "cell_type": "markdown",
   "metadata": {},
   "source": [
    "# Key Ratios\n",
    "You can fetch the latest price to book ratio and price to earnings ratio as shown below."
   ]
  },
  {
   "cell_type": "code",
   "execution_count": null,
   "metadata": {},
   "outputs": [],
   "source": [
    "# get price to book\n",
    "pb = y_finance.info['priceToBook']\n",
    "pe = y_finance.info['regularMarketPrice']/y_finance.info['trailingEps']\n",
    "\n",
    "print('Price to Book Ratio is: %.2f' % pb)\n",
    "print('Price to Earnings Ratio is: %.2f' % pe)\n",
    "print('')\n",
    "\n",
    "#or\n",
    "ptb=y_finance.info['priceToBook']\n",
    "print(ptb)\n"
   ]
  },
  {
   "cell_type": "code",
   "execution_count": null,
   "metadata": {
    "scrolled": true
   },
   "outputs": [],
   "source": [
    "# show revenues\n",
    "\n",
    "revenue = y_finance.info['enterpriseToRevenue']\n",
    "\n",
    "revenue\n",
    "\n",
    "#plt.bar(revenue.index, revenue.values)\n",
    "#plt.ylabel(\"Total Revenues\")\n",
    "#plt.show()"
   ]
  },
  {
   "cell_type": "code",
   "execution_count": null,
   "metadata": {},
   "outputs": [],
   "source": [
    "# Earnings Before Interest and Taxes\n",
    "\n",
    "EBIT = y_finance.info['enterpriseToEbitda']\n",
    "\n",
    "EBIT\n",
    "\n",
    "#plt.bar(EBIT,'years')\n",
    "#plt.ylabel(\"EBIT\")\n",
    "#plt.show()"
   ]
  },
  {
   "cell_type": "code",
   "execution_count": null,
   "metadata": {},
   "outputs": [],
   "source": [
    "# show income statement\n",
    "y_finance.financials\n",
    "\n",
    "# show balance heet\n",
    "y_finance.balance_sheet\n",
    "\n",
    "# show cashflow\n",
    "y_finance.cashflow\n",
    "\n",
    "# show other info\n",
    "y_finance.info"
   ]
  },
  {
   "cell_type": "markdown",
   "metadata": {},
   "source": [
    "* {'zip': '98052',\n",
    "* 'sector': 'Technology',\n",
    "* 'fullTimeEmployees': 144000,\n",
    "* 'longBusinessSummary': \"Microsoft Corporation develops, licenses, and supports software, services, devices, and solutions worldwide. The company's Productivity and Business Processes segment offers Office, Exchange, SharePoint, Microsoft Teams, Office 365 Security and Compliance, and Skype for Business, as well as related Client Access Licenses (CAL); and Skype, Outlook.com, and OneDrive. It also provides LinkedIn that includes Talent and marketing solutions, and subscriptions; and Dynamics 365, a set of cloud-based and on-premises business solutions for small and medium businesses, large organizations, and divisions of enterprises. The company's Intelligent Cloud segment licenses SQL and Windows Servers, Visual Studio, System Center, and related CALs; GitHub that provides a collaboration platform and code hosting service for developers; and Azure, a cloud platform. It also provides support services and Microsoft consulting services to assist customers in developing, deploying, and managing Microsoft server and desktop solutions; and training and certification to developers and IT professionals on various Microsoft products. The company's More Personal Computing segment offers Windows OEM licensing and other non-volume licensing of the Windows operating system; Windows Commercial comprising volume licensing of the Windows operating system, Windows cloud services, and other Windows commercial offerings; patent licensing; Windows Internet of Things; and MSN advertising. It also provides Microsoft Surface, PC accessories, and other intelligent devices; Gaming, including Xbox hardware, and Xbox software and services; video games and third-party video game royalties; and Search, including Bing and Microsoft advertising. The company sells its products through distributors and resellers; and directly through digital marketplaces, online stores, and retail stores. It has strategic partnerships with Humana Inc. and Nokia. The company was founded in 1975 and is headquartered in Redmond, Washington.\",\n",
    "\n",
    "* 'city': 'Redmond',\n",
    "* 'phone': '425-882-8080',\n",
    "* 'state': 'WA',\n",
    "*  'country': 'United States',\n",
    " * 'companyOfficers': [],\n",
    " * 'website': 'http://www.microsoft.com',\n",
    " * 'maxAge': 1,\n",
    " * 'address1': 'One Microsoft Way',\n",
    " * 'fax': '425-706-7329',\n",
    " * 'industry': 'Software—Infrastructure',\n",
    " * 'previousClose': 183.63,\n",
    " * 'regularMarketOpen': 182.845,\n",
    " * 'twoHundredDayAverage': 147.40741,\n",
    " * 'trailingAnnualDividendYield': 0.010564722,\n",
    " * 'payoutRatio': 0.32930002,\n",
    " * 'volume24Hr': None,\n",
    " * 'regularMarketDayHigh': 185.63,\n",
    " * 'navPrice': None,\n",
    "*  'averageDailyVolume10Day': 36191300,\n",
    " * 'totalAssets': None,\n",
    " * 'regularMarketPreviousClose': 183.63,\n",
    " * 'fiftyDayAverage': 165.18242,\n",
    " * 'trailingAnnualDividendRate': 1.94,\n",
    " * 'open': 182.845,\n",
    " * 'averageVolume10days': 36191300,\n",
    " * 'expireDate': None,\n",
    " * 'yield': None,\n",
    " * 'algorithm': None,\n",
    " * 'dividendRate': 2.04,\n",
    " * 'exDividendDate': 1582070400,\n",
    " * 'beta': 1.154593,\n",
    " * 'circulatingSupply': None,\n",
    " * 'startDate': None,\n",
    " * 'regularMarketDayLow': 182.48,\n",
    " * 'priceHint': 2,\n",
    " * 'currency': 'USD',\n",
    " * 'trailingPE': 32.031006,\n",
    " * 'regularMarketVolume': 33529074,\n",
    " * 'lastMarket': None,\n",
    " * 'maxSupply': None,\n",
    " * 'openInterest': None,\n",
    " * 'marketCap': 1427675938816,\n",
    " * 'volumeAllCurrencies': None,\n",
    " * 'strikePrice': None,\n",
    " * 'averageVolume': 23638511,\n",
    " * 'priceToSalesTrailing12Months': 10.634537,\n",
    " * 'dayLow': 182.48,\n",
    " * 'ask': 183.6,\n",
    " * 'ytdReturn': None,\n",
    " * 'askSize': 1200,\n",
    " * 'volume': 33529074,\n",
    " * 'fiftyTwoWeekHigh': 185.63,\n",
    " * 'forwardPE': 29.142632,\n",
    " * 'fromCurrency': None,\n",
    " * 'fiveYearAvgDividendYield': 2.02,\n",
    " * 'fiftyTwoWeekLow': 104.97,\n",
    " * 'bid': 183.63,\n",
    " * 'tradeable': True,\n",
    " * 'dividendYield': 0.0111,\n",
    " * 'bidSize': 1000,\n",
    " * 'dayHigh': 185.63,\n",
    " * 'exchange': 'NMS',\n",
    " * 'shortName': 'Microsoft Corporation',\n",
    " * 'longName': 'Microsoft Corporation',\n",
    " * 'exchangeTimezoneName': 'America/New_York',\n",
    " * 'exchangeTimezoneShortName': 'EST',\n",
    " * 'isEsgPopulated': False,\n",
    " * 'gmtOffSetMilliseconds': '-18000000',\n",
    " * 'quoteType': 'EQUITY',\n",
    " * 'symbol': 'MSFT',\n",
    " * 'messageBoardId': 'finmb_21835',\n",
    " * 'market': 'us_market',\n",
    " * 'annualHoldingsTurnover': None,\n",
    " * 'enterpriseToRevenue': 10.068,\n",
    " * 'beta3Year': None,\n",
    " * 'profitMargins': 0.33016,\n",
    " * 'enterpriseToEbitda': 22.061,\n",
    " * '52WeekChange': 0.7447032,\n",
    " * 'morningStarRiskRating': None,\n",
    " * 'forwardEps': 6.31,\n",
    " * 'revenueQuarterlyGrowth': None,\n",
    " * 'sharesOutstanding': 7606049792,\n",
    " * 'fundInceptionDate': None,\n",
    " * 'annualReportExpenseRatio': None,\n",
    " * 'bookValue': 14.467,\n",
    " * 'sharesShort': 63639312,\n",
    " * 'sharesPercentSharesOut': 0.0084,\n",
    " * 'fundFamily': None,\n",
    " * 'lastFiscalYearEnd': 1561852800,\n",
    " * 'heldPercentInstitutions': 0.74906,\n",
    " * 'netIncomeToCommon': 44323000320,\n",
    " * 'trailingEps': 5.741,\n",
    " * 'lastDividendValue': None,\n",
    " * 'SandP52WeekChange': 0.23469627,\n",
    " * 'priceToBook': 12.710998,\n",
    " * 'heldPercentInsiders': 0.0141900005,\n",
    " * 'nextFiscalYearEnd': 1625011200,\n",
    " * 'mostRecentQuarter': 1577750400,\n",
    " * 'shortRatio': 2.85,\n",
    " * 'sharesShortPreviousMonthDate': 1576195200,\n",
    " * 'floatShares': 7494922663,\n",
    " * 'enterpriseValue': 1351591919616,\n",
    " * 'threeYearAverageReturn': None,\n",
    " * 'lastSplitDate': 1045526400,\n",
    " * 'lastSplitFactor': '2:1',\n",
    " * 'legalType': None,\n",
    " * 'morningStarOverallRating': None,\n",
    " * 'earningsQuarterlyGrowth': 0.383,\n",
    " * 'dateShortInterest': 1579046400,\n",
    " * 'pegRatio': 2.21,\n",
    " * 'lastCapGain': None,\n",
    " * 'shortPercentOfFloat': 0.0084,\n",
    " * 'sharesShortPriorMonth': 63934516,\n",
    " * 'category': None,\n",
    " * 'fiveYearAverageReturn': None,\n",
    " * 'regularMarketPrice': 182.845,\n",
    " * 'logo_url': 'https://logo.clearbit.com/microsoft.com'}"
   ]
  },
  {
   "cell_type": "markdown",
   "metadata": {},
   "source": [
    "# Futures and Options (F&O) Data for Indian Equities\n",
    "NSEpy\n",
    "The nsepy package is used to get the stock market data for the futures and options for Indian stocks and indices."
   ]
  },
  {
   "cell_type": "markdown",
   "metadata": {},
   "source": [
    "# Futures Data"
   ]
  },
  {
   "cell_type": "code",
   "execution_count": null,
   "metadata": {},
   "outputs": [],
   "source": [
    "from datetime import date\n",
    "from nsepy import get_history\n",
    "\n",
    "# Stock options (for index options, set index = True)\n",
    "stock_fut = get_history(symbol=\"HDFC\",\n",
    "                        start=date(2019, 1, 15),\n",
    "                        end=date(2019, 2, 1),\n",
    "                        futures=True,\n",
    "                        expiry_date=date(2019, 2, 28))\n",
    "\n",
    "stock_fut.head()"
   ]
  },
  {
   "cell_type": "code",
   "execution_count": null,
   "metadata": {},
   "outputs": [],
   "source": [
    "stock_fut.Close.plot(figsize=(10, 5))\n",
    "\n",
    "# Define the label for the title of the figure\n",
    "plt.title(\"Close Price\", fontsize=16)\n",
    "\n",
    "# Define the labels for x-axis and y-axis\n",
    "plt.ylabel('Price', fontsize=14)\n",
    "plt.xlabel('Date', fontsize=14)\n",
    "\n",
    "# Plot the grid lines\n",
    "plt.grid(which=\"major\", color='k', linestyle='-.', linewidth=0.5)\n",
    "plt.show()"
   ]
  },
  {
   "cell_type": "markdown",
   "metadata": {},
   "source": [
    "# Options Data"
   ]
  },
  {
   "cell_type": "code",
   "execution_count": null,
   "metadata": {},
   "outputs": [],
   "source": [
    "stock_opt = get_history(symbol=\"HDFC\",\n",
    "                        start=date(2019, 1, 15),\n",
    "                        end=date(2019, 2, 1),\n",
    "                        option_type=\"CE\",\n",
    "                        strike_price=2000,\n",
    "                        expiry_date=date(2019, 2, 28))\n",
    "\n",
    "stock_opt.head()"
   ]
  },
  {
   "cell_type": "code",
   "execution_count": null,
   "metadata": {},
   "outputs": [],
   "source": [
    "import matplotlib.pyplot as plt\n",
    "\n",
    "stock_opt.Close.plot(figsize=(10, 5))\n",
    "\n",
    "# Define the label for the title of the figure\n",
    "plt.title(\"Close Price\", fontsize=16)\n",
    "\n",
    "# Define the labels for x-axis and y-axis\n",
    "plt.ylabel('Price', fontsize=14)\n",
    "plt.xlabel('Date', fontsize=14)\n",
    "\n",
    "# Plot the grid lines\n",
    "plt.grid(which=\"major\", color='k', linestyle='-.', linewidth=0.5)\n",
    "plt.show()"
   ]
  },
  {
   "cell_type": "markdown",
   "metadata": {},
   "source": [
    "# Visualization and Analysis\n",
    "After you have the stock market data, the next step is to create trading strategies and analyze the performance.\n",
    "\n",
    "I have created a simple buy and hold strategy for illustration purpose with four stocks namely Apple, Amazon, Microsoft and Walmart.\n",
    "\n",
    "To analyze the performance, you can use the pyfolio tear sheet as shown below."
   ]
  },
  {
   "cell_type": "code",
   "execution_count": null,
   "metadata": {},
   "outputs": [],
   "source": [
    "import pyfolio as pf"
   ]
  },
  {
   "cell_type": "code",
   "execution_count": null,
   "metadata": {},
   "outputs": [],
   "source": [
    "# Define the ticker list\n",
    "tickers_list = ['AAPL', 'AMZN', 'MSFT', 'WMT']\n",
    "\n",
    "# Import pandas and create a placeholder for the data\n",
    "import pandas as pd\n",
    "data = pd.DataFrame(columns=tickers_list)\n",
    "\n",
    "# Feth the data\n",
    "import yfinance as yf\n",
    "for ticker in tickers_list:\n",
    "    data[ticker] = yf.download(ticker, period='5y',)['Adj Close']\n",
    "\n",
    "# Compute the returns of individula stocks and then compute the daily mean returns.\n",
    "# The mean return is the daily portfolio returns with the above four stocks.\n",
    "data = data.pct_change().dropna().mean(axis=1)\n",
    "\n",
    "# Print first 5 rows of the data\n",
    "data"
   ]
  },
  {
   "cell_type": "code",
   "execution_count": null,
   "metadata": {},
   "outputs": [],
   "source": [
    "pf.create_full_tear_sheet(data)"
   ]
  },
  {
   "cell_type": "code",
   "execution_count": null,
   "metadata": {},
   "outputs": [],
   "source": []
  },
  {
   "cell_type": "code",
   "execution_count": null,
   "metadata": {},
   "outputs": [],
   "source": []
  },
  {
   "cell_type": "code",
   "execution_count": null,
   "metadata": {},
   "outputs": [],
   "source": []
  }
 ],
 "metadata": {
  "kernelspec": {
   "display_name": "Python 3",
   "language": "python",
   "name": "python3"
  },
  "language_info": {
   "codemirror_mode": {
    "name": "ipython",
    "version": 3
   },
   "file_extension": ".py",
   "mimetype": "text/x-python",
   "name": "python",
   "nbconvert_exporter": "python",
   "pygments_lexer": "ipython3",
   "version": "3.7.4"
  }
 },
 "nbformat": 4,
 "nbformat_minor": 4
}
